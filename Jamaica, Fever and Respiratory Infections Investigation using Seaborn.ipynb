{
 "cells": [
  {
   "cell_type": "code",
   "execution_count": 1,
   "metadata": {},
   "outputs": [],
   "source": [
    "import numpy as np\n",
    "import pandas as pd"
   ]
  },
  {
   "cell_type": "code",
   "execution_count": 2,
   "metadata": {},
   "outputs": [],
   "source": [
    "import matplotlib.pyplot as plt\n",
    "import seaborn as sns"
   ]
  },
  {
   "cell_type": "code",
   "execution_count": 3,
   "metadata": {},
   "outputs": [],
   "source": [
    "%matplotlib inline\n",
    "sns.set_style('whitegrid')"
   ]
  },
  {
   "cell_type": "code",
   "execution_count": 4,
   "metadata": {},
   "outputs": [],
   "source": [
    "epidem = pd.read_csv('Islandwide-Fever-and-Respiratory-Symptoms.csv.csv')"
   ]
  },
  {
   "cell_type": "code",
   "execution_count": 5,
   "metadata": {},
   "outputs": [
    {
     "name": "stdout",
     "output_type": "stream",
     "text": [
      "<class 'pandas.core.frame.DataFrame'>\n",
      "RangeIndex: 1119 entries, 0 to 1118\n",
      "Data columns (total 4 columns):\n",
      "Year                              1119 non-null int64\n",
      "Age Range                         1119 non-null object\n",
      "Epidemiological Week              1119 non-null int64\n",
      "Fever and Respiratory Symptoms    1119 non-null int64\n",
      "dtypes: int64(3), object(1)\n",
      "memory usage: 35.0+ KB\n"
     ]
    }
   ],
   "source": [
    "epidem.info()"
   ]
  },
  {
   "cell_type": "code",
   "execution_count": 6,
   "metadata": {},
   "outputs": [
    {
     "data": {
      "text/html": [
       "<div>\n",
       "<style scoped>\n",
       "    .dataframe tbody tr th:only-of-type {\n",
       "        vertical-align: middle;\n",
       "    }\n",
       "\n",
       "    .dataframe tbody tr th {\n",
       "        vertical-align: top;\n",
       "    }\n",
       "\n",
       "    .dataframe thead th {\n",
       "        text-align: right;\n",
       "    }\n",
       "</style>\n",
       "<table border=\"1\" class=\"dataframe\">\n",
       "  <thead>\n",
       "    <tr style=\"text-align: right;\">\n",
       "      <th></th>\n",
       "      <th>Year</th>\n",
       "      <th>Epidemiological Week</th>\n",
       "      <th>Fever and Respiratory Symptoms</th>\n",
       "    </tr>\n",
       "  </thead>\n",
       "  <tbody>\n",
       "    <tr>\n",
       "      <th>count</th>\n",
       "      <td>1119.000000</td>\n",
       "      <td>1119.000000</td>\n",
       "      <td>1119.000000</td>\n",
       "    </tr>\n",
       "    <tr>\n",
       "      <th>mean</th>\n",
       "      <td>2011.276139</td>\n",
       "      <td>25.761394</td>\n",
       "      <td>440.869526</td>\n",
       "    </tr>\n",
       "    <tr>\n",
       "      <th>std</th>\n",
       "      <td>2.350289</td>\n",
       "      <td>15.126458</td>\n",
       "      <td>366.038221</td>\n",
       "    </tr>\n",
       "    <tr>\n",
       "      <th>min</th>\n",
       "      <td>2008.000000</td>\n",
       "      <td>1.000000</td>\n",
       "      <td>18.000000</td>\n",
       "    </tr>\n",
       "    <tr>\n",
       "      <th>25%</th>\n",
       "      <td>2009.000000</td>\n",
       "      <td>12.000000</td>\n",
       "      <td>81.000000</td>\n",
       "    </tr>\n",
       "    <tr>\n",
       "      <th>50%</th>\n",
       "      <td>2011.000000</td>\n",
       "      <td>26.000000</td>\n",
       "      <td>436.000000</td>\n",
       "    </tr>\n",
       "    <tr>\n",
       "      <th>75%</th>\n",
       "      <td>2013.000000</td>\n",
       "      <td>39.000000</td>\n",
       "      <td>636.500000</td>\n",
       "    </tr>\n",
       "    <tr>\n",
       "      <th>max</th>\n",
       "      <td>2016.000000</td>\n",
       "      <td>52.000000</td>\n",
       "      <td>2896.000000</td>\n",
       "    </tr>\n",
       "  </tbody>\n",
       "</table>\n",
       "</div>"
      ],
      "text/plain": [
       "              Year  Epidemiological Week  Fever and Respiratory Symptoms\n",
       "count  1119.000000           1119.000000                     1119.000000\n",
       "mean   2011.276139             25.761394                      440.869526\n",
       "std       2.350289             15.126458                      366.038221\n",
       "min    2008.000000              1.000000                       18.000000\n",
       "25%    2009.000000             12.000000                       81.000000\n",
       "50%    2011.000000             26.000000                      436.000000\n",
       "75%    2013.000000             39.000000                      636.500000\n",
       "max    2016.000000             52.000000                     2896.000000"
      ]
     },
     "execution_count": 6,
     "metadata": {},
     "output_type": "execute_result"
    }
   ],
   "source": [
    "epidem.describe()"
   ]
  },
  {
   "cell_type": "code",
   "execution_count": 7,
   "metadata": {},
   "outputs": [
    {
     "data": {
      "text/html": [
       "<div>\n",
       "<style scoped>\n",
       "    .dataframe tbody tr th:only-of-type {\n",
       "        vertical-align: middle;\n",
       "    }\n",
       "\n",
       "    .dataframe tbody tr th {\n",
       "        vertical-align: top;\n",
       "    }\n",
       "\n",
       "    .dataframe thead th {\n",
       "        text-align: right;\n",
       "    }\n",
       "</style>\n",
       "<table border=\"1\" class=\"dataframe\">\n",
       "  <thead>\n",
       "    <tr style=\"text-align: right;\">\n",
       "      <th></th>\n",
       "      <th>Year</th>\n",
       "      <th>Age Range</th>\n",
       "      <th>Epidemiological Week</th>\n",
       "      <th>Fever and Respiratory Symptoms</th>\n",
       "    </tr>\n",
       "  </thead>\n",
       "  <tbody>\n",
       "    <tr>\n",
       "      <th>0</th>\n",
       "      <td>2008</td>\n",
       "      <td>5 and younger</td>\n",
       "      <td>1</td>\n",
       "      <td>453</td>\n",
       "    </tr>\n",
       "    <tr>\n",
       "      <th>1</th>\n",
       "      <td>2008</td>\n",
       "      <td>5 and younger</td>\n",
       "      <td>2</td>\n",
       "      <td>442</td>\n",
       "    </tr>\n",
       "    <tr>\n",
       "      <th>2</th>\n",
       "      <td>2008</td>\n",
       "      <td>5 and younger</td>\n",
       "      <td>3</td>\n",
       "      <td>552</td>\n",
       "    </tr>\n",
       "    <tr>\n",
       "      <th>3</th>\n",
       "      <td>2008</td>\n",
       "      <td>5 and younger</td>\n",
       "      <td>4</td>\n",
       "      <td>688</td>\n",
       "    </tr>\n",
       "    <tr>\n",
       "      <th>4</th>\n",
       "      <td>2008</td>\n",
       "      <td>5 and younger</td>\n",
       "      <td>5</td>\n",
       "      <td>649</td>\n",
       "    </tr>\n",
       "  </tbody>\n",
       "</table>\n",
       "</div>"
      ],
      "text/plain": [
       "   Year      Age Range  Epidemiological Week  Fever and Respiratory Symptoms\n",
       "0  2008  5 and younger                     1                             453\n",
       "1  2008  5 and younger                     2                             442\n",
       "2  2008  5 and younger                     3                             552\n",
       "3  2008  5 and younger                     4                             688\n",
       "4  2008  5 and younger                     5                             649"
      ]
     },
     "execution_count": 7,
     "metadata": {},
     "output_type": "execute_result"
    }
   ],
   "source": [
    "epidem.head()"
   ]
  },
  {
   "cell_type": "code",
   "execution_count": 8,
   "metadata": {},
   "outputs": [
    {
     "data": {
      "text/plain": [
       "5 and younger    373\n",
       "60 and older     373\n",
       "5-59             373\n",
       "Name: Age Range, dtype: int64"
      ]
     },
     "execution_count": 8,
     "metadata": {},
     "output_type": "execute_result"
    }
   ],
   "source": [
    "epidem['Age Range'].value_counts()"
   ]
  },
  {
   "cell_type": "code",
   "execution_count": 20,
   "metadata": {},
   "outputs": [],
   "source": [
    "epidem['5AndYounger'] = epidem['Age Range'].apply(lambda x: 1 if x == '5 and younger' else 0)"
   ]
  },
  {
   "cell_type": "code",
   "execution_count": 22,
   "metadata": {},
   "outputs": [],
   "source": [
    "epidem['60andOlder'] = epidem['Age Range'].apply(lambda x: 1 if x == '60 and older' else 0)"
   ]
  },
  {
   "cell_type": "code",
   "execution_count": 23,
   "metadata": {},
   "outputs": [],
   "source": [
    "epidem['Fiveto5nine'] = epidem['Age Range'].apply(lambda x: 1 if x == '5-59' else 0)"
   ]
  },
  {
   "cell_type": "code",
   "execution_count": 9,
   "metadata": {},
   "outputs": [],
   "source": [
    "epimat = epidem.pivot_table(index='Epidemiological Week',columns='Year', values='Fever and Respiratory Symptoms')"
   ]
  },
  {
   "cell_type": "code",
   "execution_count": 18,
   "metadata": {},
   "outputs": [
    {
     "data": {
      "text/plain": [
       "<matplotlib.axes._subplots.AxesSubplot at 0x2484a0f4a20>"
      ]
     },
     "execution_count": 18,
     "metadata": {},
     "output_type": "execute_result"
    },
    {
     "data": {
      "image/png": "[encoded data removed]",
      "text/plain": [
       "<Figure size 432x288 with 2 Axes>"
      ]
     },
     "metadata": {},
     "output_type": "display_data"
    }
   ],
   "source": [
    "#THe dataset is missing \n",
    "sns.heatmap(epimat,cmap='viridis')"
   ]
  },
  {
   "cell_type": "code",
   "execution_count": 24,
   "metadata": {},
   "outputs": [
    {
     "data": {
      "text/html": [
       "<div>\n",
       "<style scoped>\n",
       "    .dataframe tbody tr th:only-of-type {\n",
       "        vertical-align: middle;\n",
       "    }\n",
       "\n",
       "    .dataframe tbody tr th {\n",
       "        vertical-align: top;\n",
       "    }\n",
       "\n",
       "    .dataframe thead th {\n",
       "        text-align: right;\n",
       "    }\n",
       "</style>\n",
       "<table border=\"1\" class=\"dataframe\">\n",
       "  <thead>\n",
       "    <tr style=\"text-align: right;\">\n",
       "      <th></th>\n",
       "      <th>Year</th>\n",
       "      <th>Epidemiological Week</th>\n",
       "      <th>Fever and Respiratory Symptoms</th>\n",
       "      <th>5AndYounger</th>\n",
       "      <th>60andOlder</th>\n",
       "      <th>Fiveto5nine</th>\n",
       "    </tr>\n",
       "  </thead>\n",
       "  <tbody>\n",
       "    <tr>\n",
       "      <th>Year</th>\n",
       "      <td>1.000000e+00</td>\n",
       "      <td>-8.690726e-02</td>\n",
       "      <td>-0.063684</td>\n",
       "      <td>-2.404594e-16</td>\n",
       "      <td>8.528963e-17</td>\n",
       "      <td>-8.242276e-18</td>\n",
       "    </tr>\n",
       "    <tr>\n",
       "      <th>Epidemiological Week</th>\n",
       "      <td>-8.690726e-02</td>\n",
       "      <td>1.000000e+00</td>\n",
       "      <td>0.014864</td>\n",
       "      <td>1.904274e-17</td>\n",
       "      <td>-9.577049e-18</td>\n",
       "      <td>-5.568052e-19</td>\n",
       "    </tr>\n",
       "    <tr>\n",
       "      <th>Fever and Respiratory Symptoms</th>\n",
       "      <td>-6.368374e-02</td>\n",
       "      <td>1.486398e-02</td>\n",
       "      <td>1.000000</td>\n",
       "      <td>3.295639e-01</td>\n",
       "      <td>-7.222731e-01</td>\n",
       "      <td>3.927092e-01</td>\n",
       "    </tr>\n",
       "    <tr>\n",
       "      <th>5AndYounger</th>\n",
       "      <td>-2.404594e-16</td>\n",
       "      <td>1.904274e-17</td>\n",
       "      <td>0.329564</td>\n",
       "      <td>1.000000e+00</td>\n",
       "      <td>-5.000000e-01</td>\n",
       "      <td>-5.000000e-01</td>\n",
       "    </tr>\n",
       "    <tr>\n",
       "      <th>60andOlder</th>\n",
       "      <td>8.528963e-17</td>\n",
       "      <td>-9.577049e-18</td>\n",
       "      <td>-0.722273</td>\n",
       "      <td>-5.000000e-01</td>\n",
       "      <td>1.000000e+00</td>\n",
       "      <td>-5.000000e-01</td>\n",
       "    </tr>\n",
       "    <tr>\n",
       "      <th>Fiveto5nine</th>\n",
       "      <td>-8.242276e-18</td>\n",
       "      <td>-5.568052e-19</td>\n",
       "      <td>0.392709</td>\n",
       "      <td>-5.000000e-01</td>\n",
       "      <td>-5.000000e-01</td>\n",
       "      <td>1.000000e+00</td>\n",
       "    </tr>\n",
       "  </tbody>\n",
       "</table>\n",
       "</div>"
      ],
      "text/plain": [
       "                                        Year  Epidemiological Week  \\\n",
       "Year                            1.000000e+00         -8.690726e-02   \n",
       "Epidemiological Week           -8.690726e-02          1.000000e+00   \n",
       "Fever and Respiratory Symptoms -6.368374e-02          1.486398e-02   \n",
       "5AndYounger                    -2.404594e-16          1.904274e-17   \n",
       "60andOlder                      8.528963e-17         -9.577049e-18   \n",
       "Fiveto5nine                    -8.242276e-18         -5.568052e-19   \n",
       "\n",
       "                                Fever and Respiratory Symptoms   5AndYounger  \\\n",
       "Year                                                 -0.063684 -2.404594e-16   \n",
       "Epidemiological Week                                  0.014864  1.904274e-17   \n",
       "Fever and Respiratory Symptoms                        1.000000  3.295639e-01   \n",
       "5AndYounger                                           0.329564  1.000000e+00   \n",
       "60andOlder                                           -0.722273 -5.000000e-01   \n",
       "Fiveto5nine                                           0.392709 -5.000000e-01   \n",
       "\n",
       "                                  60andOlder   Fiveto5nine  \n",
       "Year                            8.528963e-17 -8.242276e-18  \n",
       "Epidemiological Week           -9.577049e-18 -5.568052e-19  \n",
       "Fever and Respiratory Symptoms -7.222731e-01  3.927092e-01  \n",
       "5AndYounger                    -5.000000e-01 -5.000000e-01  \n",
       "60andOlder                      1.000000e+00 -5.000000e-01  \n",
       "Fiveto5nine                    -5.000000e-01  1.000000e+00  "
      ]
     },
     "execution_count": 24,
     "metadata": {},
     "output_type": "execute_result"
    }
   ],
   "source": [
    "cormat = epidem.corr()\n",
    "cormat"
   ]
  },
  {
   "cell_type": "code",
   "execution_count": 26,
   "metadata": {},
   "outputs": [],
   "source": [
    "Kids = epidem[epidem['5AndYounger']==1]"
   ]
  },
  {
   "cell_type": "code",
   "execution_count": 27,
   "metadata": {},
   "outputs": [
    {
     "data": {
      "text/plain": [
       "pandas.core.frame.DataFrame"
      ]
     },
     "execution_count": 27,
     "metadata": {},
     "output_type": "execute_result"
    }
   ],
   "source": [
    "type(Kids)"
   ]
  },
  {
   "cell_type": "code",
   "execution_count": 28,
   "metadata": {},
   "outputs": [
    {
     "data": {
      "text/plain": [
       "<matplotlib.axes._subplots.AxesSubplot at 0x2484a2fc7f0>"
      ]
     },
     "execution_count": 28,
     "metadata": {},
     "output_type": "execute_result"
    },
    {
     "data": {
      "image/png": "[encoded data removed]",
      "text/plain": [
       "<Figure size 432x288 with 2 Axes>"
      ]
     },
     "metadata": {},
     "output_type": "display_data"
    }
   ],
   "source": [
    "kidmat = Kids.pivot_table(index='Epidemiological Week',columns='Year', values='Fever and Respiratory Symptoms')\n",
    "sns.heatmap(kidmat,cmap='viridis')"
   ]
  },
  {
   "cell_type": "code",
   "execution_count": 29,
   "metadata": {},
   "outputs": [
    {
     "data": {
      "text/plain": [
       "<matplotlib.axes._subplots.AxesSubplot at 0x2484a1096d8>"
      ]
     },
     "execution_count": 29,
     "metadata": {},
     "output_type": "execute_result"
    },
    {
     "data": {
      "image/png": "[encoded data removed]",
      "text/plain": [
       "<Figure size 432x288 with 2 Axes>"
      ]
     },
     "metadata": {},
     "output_type": "display_data"
    }
   ],
   "source": [
    "NotKids = epidem[epidem['Fiveto5nine']==1]\n",
    "Notmat = NotKids.pivot_table(index='Epidemiological Week',columns='Year', values='Fever and Respiratory Symptoms')\n",
    "sns.heatmap(Notmat,cmap='viridis')"
   ]
  },
  {
   "cell_type": "code",
   "execution_count": 30,
   "metadata": {},
   "outputs": [
    {
     "data": {
      "text/plain": [
       "<matplotlib.axes._subplots.AxesSubplot at 0x2484a301b70>"
      ]
     },
     "execution_count": 30,
     "metadata": {},
     "output_type": "execute_result"
    },
    {
     "data": {
      "image/png": "[encoded data removed]",
      "text/plain": [
       "<Figure size 432x288 with 2 Axes>"
      ]
     },
     "metadata": {},
     "output_type": "display_data"
    }
   ],
   "source": [
    "Old = epidem[epidem['60andOlder']==1]\n",
    "Oldmat = Old.pivot_table(index='Epidemiological Week',columns='Year', values='Fever and Respiratory Symptoms')\n",
    "sns.heatmap(Oldmat,cmap='viridis')"
   ]
  },
  {
   "cell_type": "code",
   "execution_count": 33,
   "metadata": {},
   "outputs": [
    {
     "data": {
      "text/plain": [
       "<matplotlib.axes._subplots.AxesSubplot at 0x2484c354f60>"
      ]
     },
     "execution_count": 33,
     "metadata": {},
     "output_type": "execute_result"
    },
    {
     "data": {
      "image/png": "[encoded data removed]",
      "text/plain": [
       "<Figure size 432x288 with 1 Axes>"
      ]
     },
     "metadata": {},
     "output_type": "display_data"
    }
   ],
   "source": [
    "sns.boxplot(x='Year',y='Fever and Respiratory Symptoms',data=epidem)"
   ]
  },
  {
   "cell_type": "code",
   "execution_count": null,
   "metadata": {},
   "outputs": [],
   "source": [
    "g = sns.FacetGrid(tips, col=\"time\", row=\"smoker\")"
   ]
  },
  {
   "cell_type": "code",
   "execution_count": null,
   "metadata": {},
   "outputs": [],
   "source": []
  }
 ],
 "metadata": {
  "kernelspec": {
   "display_name": "Python 3",
   "language": "python",
   "name": "python3"
  },
  "language_info": {
   "codemirror_mode": {
    "name": "ipython",
    "version": 3
   },
   "file_extension": ".py",
   "mimetype": "text/x-python",
   "name": "python",
   "nbconvert_exporter": "python",
   "pygments_lexer": "ipython3",
   "version": "3.6.8"
  }
 },
 "nbformat": 4,
 "nbformat_minor": 2
}
